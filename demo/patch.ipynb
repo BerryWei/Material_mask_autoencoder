{
 "cells": [
  {
   "cell_type": "code",
   "execution_count": 6,
   "metadata": {},
   "outputs": [
    {
     "name": "stdout",
     "output_type": "stream",
     "text": [
      "Patchfication Finished\n"
     ]
    },
    {
     "name": "stderr",
     "output_type": "stream",
     "text": [
      "<>:23: SyntaxWarning: invalid escape sequence '\\C'\n",
      "<>:23: SyntaxWarning: invalid escape sequence '\\C'\n",
      "C:\\Users\\Berry\\AppData\\Local\\Temp\\ipykernel_28880\\1702753142.py:23: SyntaxWarning: invalid escape sequence '\\C'\n",
      "  patch_img.save(f'D:\\Composite_mask_autoencoder\\circle_patch_figs_real/patch_{idx}.png')\n"
     ]
    }
   ],
   "source": [
    "from PIL import Image\n",
    "import numpy as np\n",
    "\n",
    "# 打開圖片\n",
    "img = Image.open(r'D:\\2d_composite_mesh_generator\\circle\\mesh1dir/microstructure.png')\n",
    "\n",
    "# 轉換為 numpy array\n",
    "img_array = np.array(img)\n",
    "\n",
    "# 設定 patch 大小，這裡假設輸入圖片是正方形\n",
    "patch_size = img_array.shape[0] // 14\n",
    "\n",
    "# 開始進行 patch 切割\n",
    "patches = []\n",
    "for i in range(14):\n",
    "    for j in range(14):\n",
    "        patch = img_array[i*patch_size:(i+1)*patch_size, j*patch_size:(j+1)*patch_size]\n",
    "        patches.append(patch)\n",
    "\n",
    "# 將每個 patch 存成單獨的圖片\n",
    "for idx, patch in enumerate(patches):\n",
    "    patch_img = Image.fromarray(patch)\n",
    "    patch_img.save(f'D:\\Composite_mask_autoencoder\\circle_patch_figs_real/patch_{idx}.png')\n",
    "\n",
    "print(\"Patchfication Finished\")\n"
   ]
  }
 ],
 "metadata": {
  "kernelspec": {
   "display_name": "timm",
   "language": "python",
   "name": "python3"
  },
  "language_info": {
   "codemirror_mode": {
    "name": "ipython",
    "version": 3
   },
   "file_extension": ".py",
   "mimetype": "text/x-python",
   "name": "python",
   "nbconvert_exporter": "python",
   "pygments_lexer": "ipython3",
   "version": "3.12.7"
  }
 },
 "nbformat": 4,
 "nbformat_minor": 2
}
