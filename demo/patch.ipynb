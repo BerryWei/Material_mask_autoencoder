{
 "cells": [
  {
   "cell_type": "code",
   "execution_count": 1,
   "metadata": {},
   "outputs": [
    {
     "name": "stderr",
     "output_type": "stream",
     "text": [
      "<>:23: SyntaxWarning: invalid escape sequence '\\M'\n",
      "<>:23: SyntaxWarning: invalid escape sequence '\\M'\n",
      "C:\\Users\\Berry\\AppData\\Local\\Temp\\ipykernel_2352\\2678861022.py:23: SyntaxWarning: invalid escape sequence '\\M'\n",
      "  patch_img.save(f'D:\\Material_mask_autoencoder\\circle_patch_figs_real/patch_{idx}.png')\n"
     ]
    },
    {
     "name": "stdout",
     "output_type": "stream",
     "text": [
      "Patchfication Finished\n"
     ]
    }
   ],
   "source": [
    "from PIL import Image\n",
    "import numpy as np\n",
    "\n",
    "# 打開圖片\n",
    "img = Image.open(r'D:\\2d_composite_mesh_generator\\circle\\mesh1dir/microstructure.png')\n",
    "\n",
    "# 轉換為 numpy array\n",
    "img_array = np.array(img)\n",
    "\n",
    "# 設定 patch 大小，這裡假設輸入圖片是正方形\n",
    "patch_size = img_array.shape[0] // 14\n",
    "\n",
    "# 開始進行 patch 切割\n",
    "patches = []\n",
    "for i in range(14):\n",
    "    for j in range(14):\n",
    "        patch = img_array[i*patch_size:(i+1)*patch_size, j*patch_size:(j+1)*patch_size]\n",
    "        patches.append(patch)\n",
    "\n",
    "# 將每個 patch 存成單獨的圖片\n",
    "for idx, patch in enumerate(patches):\n",
    "    patch_img = Image.fromarray(patch)\n",
    "    patch_img.save(f'D:\\Material_mask_autoencoder\\circle_patch_figs_real/patch_{idx}.png')\n",
    "\n",
    "print(\"Patchfication Finished\")\n"
   ]
  },
  {
   "cell_type": "code",
   "execution_count": 8,
   "metadata": {},
   "outputs": [
    {
     "name": "stdout",
     "output_type": "stream",
     "text": [
      "Patchfication Finished with Dashed Borders and Aligned\n"
     ]
    }
   ],
   "source": [
    "from PIL import Image, ImageDraw\n",
    "import numpy as np\n",
    "\n",
    "# 打開圖片\n",
    "img = Image.open(r'D:\\2d_composite_mesh_generator\\circle\\mesh1dir/microstructure.png')\n",
    "\n",
    "# 轉換為 numpy array\n",
    "img_array = np.array(img)\n",
    "\n",
    "# 設定 patch 大小，這裡假設輸入圖片是正方形\n",
    "patch_size = img_array.shape[0] // 3\n",
    "\n",
    "# 設定每個 patch 之間的空隙大小\n",
    "padding = 10\n",
    "\n",
    "# 計算最終大圖的尺寸，包括 padding 的空間\n",
    "output_image_size = 3 * patch_size + (3 - 1) * padding\n",
    "\n",
    "# 創建空白的大畫布，設置為 RGBA 格式（透明背景）\n",
    "output_image = Image.new('RGBA', (output_image_size, output_image_size), (0, 0, 0, 0))\n",
    "\n",
    "# 創建 ImageDraw 對象來畫線\n",
    "draw = ImageDraw.Draw(output_image)\n",
    "\n",
    "# 虛線框的線條寬度\n",
    "line_width = 3\n",
    "# 虛線的段長（每條線段的長度）\n",
    "dash_length = 11\n",
    "# 確保虛線畫在內部邊界\n",
    "line_offset = line_width // 2\n",
    "\n",
    "# 開始進行 patch 切割並排入大圖\n",
    "for i in range(3):\n",
    "    for j in range(3):\n",
    "        # 切割出每個 patch\n",
    "        patch = img_array[i*patch_size:(i+1)*patch_size, j*patch_size:(j+1)*patch_size]\n",
    "        \n",
    "        # 將 patch 轉換為圖片格式\n",
    "        patch_img = Image.fromarray(patch)\n",
    "\n",
    "        # 如果原始圖像是 RGB，將其轉換為 RGBA，以便能夠處理透明度\n",
    "        if patch_img.mode != 'RGBA':\n",
    "            patch_img = patch_img.convert('RGBA')\n",
    "        \n",
    "        # 計算放置 patch 的位置\n",
    "        x_offset = j * (patch_size + padding)\n",
    "        y_offset = i * (patch_size + padding)\n",
    "        \n",
    "        # 將 patch 貼到大圖上\n",
    "        output_image.paste(patch_img, (x_offset, y_offset), patch_img)\n",
    "        \n",
    "\n",
    "\n",
    "# 存儲最終的排好序並帶有虛線框和透明背景的圖片\n",
    "output_image.save(r'D:\\Material_mask_autoencoder\\circle_patch_figs_demo\\combined_image_with_dashed_border_aligned.png', 'PNG')\n",
    "\n",
    "print(\"Patchfication Finished with Dashed Borders and Aligned\")\n"
   ]
  },
  {
   "cell_type": "code",
   "execution_count": 9,
   "metadata": {},
   "outputs": [
    {
     "name": "stdout",
     "output_type": "stream",
     "text": [
      "Patchfication Finished with Gray Mask\n"
     ]
    }
   ],
   "source": [
    "from PIL import Image, ImageDraw\n",
    "import numpy as np\n",
    "\n",
    "# 打開圖片\n",
    "img = Image.open(r'D:\\2d_composite_mesh_generator\\circle\\mesh1dir/microstructure.png')\n",
    "\n",
    "# 轉換為 numpy array\n",
    "img_array = np.array(img)\n",
    "\n",
    "# 設定 patch 大小，這裡假設輸入圖片是正方形\n",
    "patch_size = img_array.shape[0] // 3\n",
    "\n",
    "# 設定每個 patch 之間的空隙大小\n",
    "padding = 10\n",
    "\n",
    "# 計算最終大圖的尺寸，包括 padding 的空間\n",
    "output_image_size = 3 * patch_size + (3 - 1) * padding\n",
    "\n",
    "# 創建空白的大畫布，設置為 RGBA 格式（透明背景）\n",
    "output_image = Image.new('RGBA', (output_image_size, output_image_size), (0, 0, 0, 0))\n",
    "\n",
    "# 創建 ImageDraw 對象來畫線\n",
    "draw = ImageDraw.Draw(output_image)\n",
    "\n",
    "# 要 mask 的 patch 位置列表\n",
    "mask_positions = [(0, 0), (0, 1), (1, 1), (1, 2), (2, 1)]\n",
    "\n",
    "# 開始進行 patch 切割並排入大圖\n",
    "for i in range(3):\n",
    "    for j in range(3):\n",
    "        # 切割出每個 patch\n",
    "        patch = img_array[i*patch_size:(i+1)*patch_size, j*patch_size:(j+1)*patch_size]\n",
    "        \n",
    "        # 將 patch 轉換為圖片格式\n",
    "        patch_img = Image.fromarray(patch)\n",
    "\n",
    "        # 如果這個位置需要 mask，將其塗成灰色\n",
    "        if (i, j) in mask_positions:\n",
    "            # 創建一個和 patch 大小相同的灰色遮罩\n",
    "            gray_patch = Image.new('RGBA', (patch_size, patch_size), (128, 128, 128, 255))  # 灰色\n",
    "            patch_img = gray_patch\n",
    "        \n",
    "        # 如果原始圖像是 RGB，將其轉換為 RGBA，以便能夠處理透明度\n",
    "        if patch_img.mode != 'RGBA':\n",
    "            patch_img = patch_img.convert('RGBA')\n",
    "        \n",
    "        # 計算放置 patch 的位置\n",
    "        x_offset = j * (patch_size + padding)\n",
    "        y_offset = i * (patch_size + padding)\n",
    "        \n",
    "        # 將 patch 貼到大圖上\n",
    "        output_image.paste(patch_img, (x_offset, y_offset), patch_img)\n",
    "\n",
    "# 存儲最終的排好序並帶有虛線框和透明背景的圖片\n",
    "output_image.save(r'D:\\Material_mask_autoencoder\\circle_patch_figs_demo\\combined_image_with_gray_mask.png', 'PNG')\n",
    "\n",
    "print(\"Patchfication Finished with Gray Mask\")\n"
   ]
  }
 ],
 "metadata": {
  "kernelspec": {
   "display_name": "timm",
   "language": "python",
   "name": "python3"
  },
  "language_info": {
   "codemirror_mode": {
    "name": "ipython",
    "version": 3
   },
   "file_extension": ".py",
   "mimetype": "text/x-python",
   "name": "python",
   "nbconvert_exporter": "python",
   "pygments_lexer": "ipython3",
   "version": "3.12.7"
  }
 },
 "nbformat": 4,
 "nbformat_minor": 2
}
